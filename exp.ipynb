{
 "cells": [
  {
   "cell_type": "code",
   "execution_count": 1,
   "metadata": {},
   "outputs": [],
   "source": [
    "import torch \n",
    "import numpy as np \n",
    "import pandas as pd\n",
    "\n",
    "from src.scm.distribution import *\n",
    "from src.scm.scm import *\n",
    "from src.causal_graph import *\n",
    "from src.scm.feedforward_ncm import *\n",
    "from src.queries import *"
   ]
  },
  {
   "cell_type": "code",
   "execution_count": 2,
   "metadata": {},
   "outputs": [],
   "source": [
    "X,Y,Z,W = 'X','Y','Z','W'\n",
    "Ur,Uz,Ux,Uy = 'Ur', 'Uz', 'Ux', 'Uy'\n",
    "\n",
    "V = [Z,X,Y]\n",
    "U = [Ur,Uz,Ux,Uy]\n",
    "\n",
    "class ExDist(Distribution):\n",
    "    def __init__(self, u):\n",
    "        super().__init__(u)\n",
    "        self.rand_state = np.random.RandomState()\n",
    "        self.p = {\n",
    "            Ur: 0.25,\n",
    "            Uz: 0.95,\n",
    "            Ux: 0.9,\n",
    "            Uy: 0.7\n",
    "        }\n",
    "\n",
    "    def sample(self, n=1, device=None):\n",
    "        return {u: T.from_numpy(self.rand_state.binomial(1, self.p[u], size=(n))).long() for u in self.u}\n",
    "\n",
    "pu = ExDist(U)\n",
    "\n",
    "def fz(v, u): \n",
    "    return torch.tensor([int(u[Ur][i]==1 and u[Uz][i]==1) for i in range(len(u[Ur]))])\n",
    "def fx(v, u): \n",
    "    return torch.tensor([int(v[Z][i]==u[Ux][i]) for i in range(len(v[Z]))])\n",
    "def fy(v, u): \n",
    "    # print(v[X])\n",
    "    # cond1 = [int(v[X][i]==1 and u[Ur][i]==1) for i in range(len(u[Ur]))]\n",
    "    def cond1(i): return v[X][i]==1 and u[Ur][i]==1\n",
    "    def cond2(i): return v[X][i]==0 and u[Ur][i]==1 and u[Uy][i]==1\n",
    "    def cond3(i): return v[X][i]==0 and u[Ur][i]==0 and u[Uy][i]==0\n",
    "    return torch.tensor([int(cond1(i) or cond2(i) or cond3(i)) for i in range(len(u[Ur]))])\n",
    "\n",
    "f = {\n",
    "    X: fx,\n",
    "    Y: fy,\n",
    "    Z: fz\n",
    "}\n",
    "\n",
    "scm = SCM(V,f,pu)\n",
    "uval=[0,0,0,0]\n",
    "u={U[i]:torch.tensor([uval[i]]) for i in range(len(U))}\n",
    "# u=pu.sample(n=3)\n",
    "# scm(u=u,do={X:torch.tensor([1])})"
   ]
  },
  {
   "cell_type": "code",
   "execution_count": 3,
   "metadata": {},
   "outputs": [
    {
     "name": "stdout",
     "output_type": "stream",
     "text": [
      "0.23750000000000002\n",
      "0.29000000000000004\n"
     ]
    }
   ],
   "source": [
    "pz = 0.007125 + 0.016625 + 0.064125 + 0.149625\n",
    "px = 0.001125 + 0.002625 + 0.021375 + 0.049875 + 0.000375 + 0.000875 + 0.064125 + 0.149625\n",
    "\n",
    "print(pz)\n",
    "print(px)"
   ]
  },
  {
   "cell_type": "code",
   "execution_count": 4,
   "metadata": {},
   "outputs": [
    {
     "name": "stdout",
     "output_type": "stream",
     "text": [
      "tensor([0.2486, 0.7514])\n",
      "tensor([0.7446, 0.2554])\n",
      "tensor([0.5958, 0.4042])\n"
     ]
    },
    {
     "data": {
      "text/plain": [
       "tensor([ 0.1488, -0.1488])"
      ]
     },
     "execution_count": 4,
     "metadata": {},
     "output_type": "execute_result"
    }
   ],
   "source": [
    "U = scm.pu.sample(n=10000)\n",
    "def compute_ctf(ncm, var, do={}, conditions={}, n=10000, get_prob=True, u=None):\n",
    "    U, n_new = get_conditioned_u(ncm, conditions=conditions, n=n, u=u)\n",
    "\n",
    "    samples = dict()\n",
    "    expanded_do_terms = dict()\n",
    "    for k in do:\n",
    "        if k == \"nested\":\n",
    "            # TODO\n",
    "            expanded_do_terms.update(compute_ctf(\"based on ctf term in v\", get_prob=False))\n",
    "        else:\n",
    "            expanded_do_terms[k] = expand_do(do[k],n_new)\n",
    "        # instead of update based on select=var, update select=terms of this do, in case of nested\n",
    "    samples = ncm(n=None, u=U, do=expanded_dos(do,n_new))\n",
    "\n",
    "    if get_prob is False: return samples\n",
    "    return tensor_prob_dist(samples[var])\n",
    "\n",
    "conditions={}\n",
    "_, pycondx1 = compute_ctf(scm, Y, conditions={X:1}, u=U)\n",
    "_, pyx1 = compute_ctf(scm, Y, do={X:1}, conditions=conditions, u=U)\n",
    "_, pyx0 = compute_ctf(scm, Y, do={X:0}, conditions=conditions, u=U)\n",
    "print(pycondx1)\n",
    "print(pyx1)\n",
    "print(pyx0)\n",
    "pyx1 - pyx0"
   ]
  },
  {
   "cell_type": "code",
   "execution_count": 5,
   "metadata": {},
   "outputs": [
    {
     "name": "stdout",
     "output_type": "stream",
     "text": [
      "tensor([0.2486, 0.7514])\n",
      "tensor([0.7446, 0.2554])\n",
      "tensor([0.5958, 0.4042])\n"
     ]
    }
   ],
   "source": [
    "def sample_ctf(ncm, term: CTFTerm, conditions={}, n=10000, u=None, get_prob=True):\n",
    "    U, n = get_conditioned_u(ncm, u, conditions=conditions, n=n)\n",
    "\n",
    "    expanded_do_terms = dict()\n",
    "    for k in term.do_vals:\n",
    "        if k == \"nested\":\n",
    "            nested_term = term.do_vals[k]\n",
    "            ctf = sample_ctf(ncm=ncm, term=nested_term, n=n, u=U, get_prob=False)\n",
    "            for var in nested_term.vars:\n",
    "                expanded_do_terms.update({var: ctf[var]})\n",
    "        else:\n",
    "            expanded_do_terms[k] = expand_do(term.do_vals[k],n)\n",
    "\n",
    "    return ncm(n=None, u=U, do=expanded_do_terms, select=term.vars, evaluating=True)\n",
    "\n",
    "syx1 = sample_ctf(scm, CTFTerm([Y], {X:1}), conditions=conditions, u=U)\n",
    "# summ = sum(syx1[Y].tolist())\n",
    "# length = len(syx1[Y].tolist())\n",
    "# print(f'{summ} / {length} = {summ/length}')\n",
    "\n",
    "_, px1 = tensor_prob_dist(syx1[Y])\n",
    "\n",
    "sycondx1 = sample_ctf(scm, CTFTerm([Y]), conditions={X:1}, u=U)\n",
    "_, pycondx1 =tensor_prob_dist(sycondx1[Y])\n",
    "\n",
    "syx0 = sample_ctf(scm, CTFTerm([Y], {X:0}), conditions=conditions, u=U)\n",
    "_, px0 = tensor_prob_dist(syx0[Y])\n",
    "print(pycondx1)\n",
    "print(px1)\n",
    "print(px0)"
   ]
  },
  {
   "cell_type": "code",
   "execution_count": 6,
   "metadata": {},
   "outputs": [
    {
     "name": "stdout",
     "output_type": "stream",
     "text": [
      "tensor([0.2486, 0.7514]) tensor([0.7446, 0.2554])\n"
     ]
    }
   ],
   "source": [
    "_, py_condx1 = prob_ctf(Y, scm, CTFTerm([Y]), conditions={X:1}, u=U)\n",
    "_, py_dox1 = prob_ctf(Y, scm, CTFTerm([Y], {X:1}), u=U)\n",
    "print(py_condx1, py_dox1)"
   ]
  }
 ],
 "metadata": {
  "kernelspec": {
   "display_name": "Python 3",
   "language": "python",
   "name": "python3"
  },
  "language_info": {
   "codemirror_mode": {
    "name": "ipython",
    "version": 3
   },
   "file_extension": ".py",
   "mimetype": "text/x-python",
   "name": "python",
   "nbconvert_exporter": "python",
   "pygments_lexer": "ipython3",
   "version": "3.12.6"
  }
 },
 "nbformat": 4,
 "nbformat_minor": 2
}
